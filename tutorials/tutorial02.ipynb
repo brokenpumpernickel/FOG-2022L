{
 "cells": [
  {
   "cell_type": "markdown",
   "id": "0cd513cf-ce55-4ebc-aab2-c37ad49149fb",
   "metadata": {},
   "source": [
    "# Zmienne"
   ]
  },
  {
   "cell_type": "code",
   "execution_count": 19,
   "id": "955e5d4e-35fa-484d-a1f8-475187f22adb",
   "metadata": {},
   "outputs": [
    {
     "data": {
      "text/plain": [
       "3"
      ]
     },
     "execution_count": 19,
     "metadata": {},
     "output_type": "execute_result"
    }
   ],
   "source": [
    "x = 3\n",
    "x"
   ]
  },
  {
   "cell_type": "code",
   "execution_count": 7,
   "id": "c66d38d9-c70f-4709-8b70-a9de76733017",
   "metadata": {},
   "outputs": [
    {
     "data": {
      "text/plain": [
       "int"
      ]
     },
     "execution_count": 7,
     "metadata": {},
     "output_type": "execute_result"
    }
   ],
   "source": [
    "type(x)"
   ]
  },
  {
   "cell_type": "code",
   "execution_count": 11,
   "id": "f8be20fb-e82a-4bd6-adff-e59243e34cfd",
   "metadata": {},
   "outputs": [
    {
     "data": {
      "text/plain": [
       "3.5"
      ]
     },
     "execution_count": 11,
     "metadata": {},
     "output_type": "execute_result"
    }
   ],
   "source": [
    "y = 3.5\n",
    "y"
   ]
  },
  {
   "cell_type": "code",
   "execution_count": 12,
   "id": "28182b52-f745-466b-9786-24afd0d7203d",
   "metadata": {},
   "outputs": [
    {
     "data": {
      "text/plain": [
       "float"
      ]
     },
     "execution_count": 12,
     "metadata": {},
     "output_type": "execute_result"
    }
   ],
   "source": [
    "type(y)"
   ]
  },
  {
   "cell_type": "code",
   "execution_count": 13,
   "id": "4e795b68-39be-4658-b03f-6d85064222b7",
   "metadata": {},
   "outputs": [
    {
     "data": {
      "text/plain": [
       "(1+2j)"
      ]
     },
     "execution_count": 13,
     "metadata": {},
     "output_type": "execute_result"
    }
   ],
   "source": [
    "z = 1 + 2j\n",
    "z"
   ]
  },
  {
   "cell_type": "code",
   "execution_count": 26,
   "id": "769845bd-0ff1-48d7-a601-f6fc34af1a11",
   "metadata": {},
   "outputs": [
    {
     "data": {
      "text/plain": [
       "'Kocham fizykę kwantową!'"
      ]
     },
     "execution_count": 26,
     "metadata": {},
     "output_type": "execute_result"
    }
   ],
   "source": [
    "s = 'Kocham fizykę kwantową!'\n",
    "s"
   ]
  },
  {
   "cell_type": "code",
   "execution_count": 15,
   "id": "8727826b-86f0-41e4-945e-08a98bc80951",
   "metadata": {},
   "outputs": [
    {
     "data": {
      "text/plain": [
       "str"
      ]
     },
     "execution_count": 15,
     "metadata": {},
     "output_type": "execute_result"
    }
   ],
   "source": [
    "type(s)"
   ]
  },
  {
   "cell_type": "code",
   "execution_count": 27,
   "id": "a0a6f104-9fa9-4d7d-9a85-8d5488f94f57",
   "metadata": {},
   "outputs": [],
   "source": [
    "x = 'YOLO'"
   ]
  },
  {
   "cell_type": "code",
   "execution_count": 21,
   "id": "80975098-0478-4111-98d1-fc371b7943f3",
   "metadata": {},
   "outputs": [
    {
     "data": {
      "text/plain": [
       "3"
      ]
     },
     "execution_count": 21,
     "metadata": {},
     "output_type": "execute_result"
    }
   ],
   "source": [
    "1 + 2"
   ]
  },
  {
   "cell_type": "code",
   "execution_count": 22,
   "id": "cd21b37c-5314-467d-bc73-4f77fb2d401e",
   "metadata": {},
   "outputs": [
    {
     "data": {
      "text/plain": [
       "-2"
      ]
     },
     "execution_count": 22,
     "metadata": {},
     "output_type": "execute_result"
    }
   ],
   "source": [
    "1 - 3"
   ]
  },
  {
   "cell_type": "code",
   "execution_count": 23,
   "id": "deceb135-262c-472a-8465-03eb045316f7",
   "metadata": {},
   "outputs": [
    {
     "data": {
      "text/plain": [
       "15"
      ]
     },
     "execution_count": 23,
     "metadata": {},
     "output_type": "execute_result"
    }
   ],
   "source": [
    "3 * 5"
   ]
  },
  {
   "cell_type": "code",
   "execution_count": 24,
   "id": "0fe4b8ec-bc84-4107-8e9b-6d9a1aa20c79",
   "metadata": {},
   "outputs": [
    {
     "data": {
      "text/plain": [
       "1.3333333333333333"
      ]
     },
     "execution_count": 24,
     "metadata": {},
     "output_type": "execute_result"
    }
   ],
   "source": [
    "4 / 3"
   ]
  },
  {
   "cell_type": "code",
   "execution_count": 25,
   "id": "720a6d34-88ba-465f-82e3-09644ff5304c",
   "metadata": {},
   "outputs": [
    {
     "data": {
      "text/plain": [
       "1"
      ]
     },
     "execution_count": 25,
     "metadata": {},
     "output_type": "execute_result"
    }
   ],
   "source": [
    "4 // 3"
   ]
  },
  {
   "cell_type": "code",
   "execution_count": 28,
   "id": "b5bd8be5-6e29-4763-ae9a-538e83d7d302",
   "metadata": {},
   "outputs": [
    {
     "data": {
      "text/plain": [
       "'YOLOKocham fizykę kwantową!'"
      ]
     },
     "execution_count": 28,
     "metadata": {},
     "output_type": "execute_result"
    }
   ],
   "source": [
    "x + s"
   ]
  },
  {
   "cell_type": "code",
   "execution_count": 29,
   "id": "0e439b94-07c3-4897-9227-2260742d549e",
   "metadata": {},
   "outputs": [
    {
     "data": {
      "text/plain": [
       "'Kocham fizykę kwantową!Kocham fizykę kwantową!Kocham fizykę kwantową!Kocham fizykę kwantową!Kocham fizykę kwantową!Kocham fizykę kwantową!Kocham fizykę kwantową!Kocham fizykę kwantową!Kocham fizykę kwantową!Kocham fizykę kwantową!Kocham fizykę kwantową!Kocham fizykę kwantową!Kocham fizykę kwantową!Kocham fizykę kwantową!Kocham fizykę kwantową!Kocham fizykę kwantową!Kocham fizykę kwantową!Kocham fizykę kwantową!Kocham fizykę kwantową!Kocham fizykę kwantową!Kocham fizykę kwantową!Kocham fizykę kwantową!Kocham fizykę kwantową!Kocham fizykę kwantową!Kocham fizykę kwantową!Kocham fizykę kwantową!Kocham fizykę kwantową!Kocham fizykę kwantową!Kocham fizykę kwantową!Kocham fizykę kwantową!'"
      ]
     },
     "execution_count": 29,
     "metadata": {},
     "output_type": "execute_result"
    }
   ],
   "source": [
    "s * 30"
   ]
  },
  {
   "cell_type": "code",
   "execution_count": 30,
   "id": "e5bb3d08-580b-47d0-8062-d789954f8ba5",
   "metadata": {},
   "outputs": [],
   "source": [
    "# To jest kom."
   ]
  },
  {
   "cell_type": "markdown",
   "id": "ef9968a9-b0c6-4cc1-8fcd-f6922015ef7a",
   "metadata": {},
   "source": [
    "# Funkcje"
   ]
  },
  {
   "cell_type": "code",
   "execution_count": 34,
   "id": "65263a75-86d0-491e-894a-7ea09a0c0039",
   "metadata": {},
   "outputs": [],
   "source": [
    "def moja_funkcja(x, y, z):\n",
    "    return x + y + z"
   ]
  },
  {
   "cell_type": "code",
   "execution_count": 32,
   "id": "513de11e-b079-45a3-bdfd-e9cccebfd658",
   "metadata": {},
   "outputs": [
    {
     "data": {
      "text/plain": [
       "6"
      ]
     },
     "execution_count": 32,
     "metadata": {},
     "output_type": "execute_result"
    }
   ],
   "source": [
    "moja_funkcja(1, 2, 3)"
   ]
  },
  {
   "cell_type": "code",
   "execution_count": 35,
   "id": "c40b51d2-7f3a-4242-9fc4-638a9e571780",
   "metadata": {},
   "outputs": [],
   "source": [
    "def moja_funkcja(x, y, z, a = 1, b = 2, c = 3):\n",
    "    return x + y + z - a * b * c"
   ]
  },
  {
   "cell_type": "code",
   "execution_count": 37,
   "id": "9dc9e826-5f43-400f-a676-4f6b5500c831",
   "metadata": {},
   "outputs": [
    {
     "data": {
      "text/plain": [
       "-498"
      ]
     },
     "execution_count": 37,
     "metadata": {},
     "output_type": "execute_result"
    }
   ],
   "source": [
    "moja_funkcja(1, 2, 3, 7, 8, 9)"
   ]
  },
  {
   "cell_type": "code",
   "execution_count": 38,
   "id": "7c850a2b-975b-458c-ad7f-a24dc494b176",
   "metadata": {},
   "outputs": [
    {
     "data": {
      "text/plain": [
       "-162"
      ]
     },
     "execution_count": 38,
     "metadata": {},
     "output_type": "execute_result"
    }
   ],
   "source": [
    "moja_funkcja(1, 2, 3, 7, 8)"
   ]
  },
  {
   "cell_type": "code",
   "execution_count": 39,
   "id": "f46a7ccb-08c1-45f6-95b7-09b4053ef7b2",
   "metadata": {},
   "outputs": [
    {
     "data": {
      "text/plain": [
       "-36"
      ]
     },
     "execution_count": 39,
     "metadata": {},
     "output_type": "execute_result"
    }
   ],
   "source": [
    "moja_funkcja(1, 2, 3, 7)"
   ]
  },
  {
   "cell_type": "code",
   "execution_count": 41,
   "id": "01b19a81-455a-447f-9624-67707b5341b0",
   "metadata": {},
   "outputs": [
    {
     "data": {
      "text/plain": [
       "-1994"
      ]
     },
     "execution_count": 41,
     "metadata": {},
     "output_type": "execute_result"
    }
   ],
   "source": [
    "moja_funkcja(1, 2, 3, c = 1000)"
   ]
  },
  {
   "cell_type": "code",
   "execution_count": 42,
   "id": "d713b7d6-9921-48b2-b16a-97d2c44d4516",
   "metadata": {},
   "outputs": [
    {
     "data": {
      "text/plain": [
       "-199999994"
      ]
     },
     "execution_count": 42,
     "metadata": {},
     "output_type": "execute_result"
    }
   ],
   "source": [
    "moja_funkcja(1, 2, 3, c = 1000, a = 100000)"
   ]
  },
  {
   "cell_type": "code",
   "execution_count": 45,
   "id": "9c62fb0a-28fa-465a-9605-7ff387b2de08",
   "metadata": {},
   "outputs": [
    {
     "data": {
      "text/plain": [
       "-199999994"
      ]
     },
     "execution_count": 45,
     "metadata": {},
     "output_type": "execute_result"
    }
   ],
   "source": [
    "moja_funkcja(y = 2, z = 3, c = 1000, a = 100000, x = 1)"
   ]
  },
  {
   "cell_type": "markdown",
   "id": "b7f57e93-22f3-4e47-a99e-06c6bf47f158",
   "metadata": {},
   "source": [
    "# Control flow"
   ]
  },
  {
   "cell_type": "code",
   "execution_count": 46,
   "id": "c42a27b9-9b62-4eca-8330-e041602b1abe",
   "metadata": {},
   "outputs": [
    {
     "data": {
      "text/plain": [
       "False"
      ]
     },
     "execution_count": 46,
     "metadata": {},
     "output_type": "execute_result"
    }
   ],
   "source": [
    "3 > 4"
   ]
  },
  {
   "cell_type": "code",
   "execution_count": 47,
   "id": "e9041937-c7ea-47c2-9723-1e27f1272f78",
   "metadata": {},
   "outputs": [
    {
     "data": {
      "text/plain": [
       "True"
      ]
     },
     "execution_count": 47,
     "metadata": {},
     "output_type": "execute_result"
    }
   ],
   "source": [
    "3 < 4"
   ]
  },
  {
   "cell_type": "code",
   "execution_count": 49,
   "id": "010ce0b9-2b08-47a2-a1c3-6917d76e9d10",
   "metadata": {},
   "outputs": [
    {
     "data": {
      "text/plain": [
       "True"
      ]
     },
     "execution_count": 49,
     "metadata": {},
     "output_type": "execute_result"
    }
   ],
   "source": [
    "b = True\n",
    "b"
   ]
  },
  {
   "cell_type": "code",
   "execution_count": 50,
   "id": "e06f247f-e4f3-45fe-8ede-0768b218e784",
   "metadata": {},
   "outputs": [
    {
     "name": "stdout",
     "output_type": "stream",
     "text": [
      "<\n"
     ]
    }
   ],
   "source": [
    "if 3 > 4:\n",
    "    print('>')\n",
    "else:\n",
    "    print('<')"
   ]
  },
  {
   "cell_type": "code",
   "execution_count": 51,
   "id": "1ff12402-132f-4c6d-874b-43ace212c868",
   "metadata": {},
   "outputs": [
    {
     "name": "stdout",
     "output_type": "stream",
     "text": [
      "<\n"
     ]
    }
   ],
   "source": [
    "if 3 > 4:\n",
    "    print('>')\n",
    "elif 3 == 4:\n",
    "    print('=')\n",
    "else:\n",
    "    print('<')"
   ]
  },
  {
   "cell_type": "code",
   "execution_count": 52,
   "id": "7284b08b-8ba7-485f-965f-77b4983c34da",
   "metadata": {},
   "outputs": [
    {
     "name": "stdout",
     "output_type": "stream",
     "text": [
      "0\n",
      "1\n",
      "2\n",
      "3\n",
      "4\n",
      "5\n",
      "6\n",
      "7\n",
      "8\n",
      "9\n"
     ]
    }
   ],
   "source": [
    "for i in range(10):\n",
    "    print(i)"
   ]
  },
  {
   "cell_type": "code",
   "execution_count": 53,
   "id": "3a25d265-62cf-41ec-850f-365bc904ca70",
   "metadata": {},
   "outputs": [
    {
     "name": "stdout",
     "output_type": "stream",
     "text": [
      "2\n",
      "3\n",
      "4\n",
      "5\n",
      "6\n",
      "7\n",
      "8\n",
      "9\n"
     ]
    }
   ],
   "source": [
    "for i in range(2, 10):\n",
    "    print(i)"
   ]
  },
  {
   "cell_type": "code",
   "execution_count": 54,
   "id": "b2264ac1-9f8d-4ab9-a730-8ce7b7ff05fb",
   "metadata": {},
   "outputs": [
    {
     "name": "stdout",
     "output_type": "stream",
     "text": [
      "2\n",
      "4\n",
      "6\n",
      "8\n"
     ]
    }
   ],
   "source": [
    "for i in range(2, 10, 2):\n",
    "    print(i)"
   ]
  },
  {
   "cell_type": "code",
   "execution_count": 55,
   "id": "70de68fa-9151-4446-bb64-48f6c5623157",
   "metadata": {},
   "outputs": [
    {
     "name": "stdout",
     "output_type": "stream",
     "text": [
      "0\n",
      "1\n",
      "2\n",
      "3\n",
      "4\n",
      "5\n",
      "6\n",
      "7\n",
      "8\n",
      "9\n"
     ]
    }
   ],
   "source": [
    "index = 0\n",
    "while index < 10:\n",
    "    print(index)\n",
    "    index += 1"
   ]
  },
  {
   "cell_type": "markdown",
   "id": "0cb74b11-a104-499f-9b4e-e012bbae513e",
   "metadata": {},
   "source": [
    "# Collections"
   ]
  },
  {
   "cell_type": "code",
   "execution_count": 56,
   "id": "6db57eac-b512-46ef-ba8f-d3bb39447088",
   "metadata": {},
   "outputs": [
    {
     "data": {
      "text/plain": [
       "[]"
      ]
     },
     "execution_count": 56,
     "metadata": {},
     "output_type": "execute_result"
    }
   ],
   "source": [
    "x = []\n",
    "x"
   ]
  },
  {
   "cell_type": "code",
   "execution_count": 57,
   "id": "45b4aec6-de78-46e0-8a79-4c55e7f1a3fe",
   "metadata": {},
   "outputs": [
    {
     "data": {
      "text/plain": [
       "list"
      ]
     },
     "execution_count": 57,
     "metadata": {},
     "output_type": "execute_result"
    }
   ],
   "source": [
    "type(x)"
   ]
  },
  {
   "cell_type": "code",
   "execution_count": 58,
   "id": "9fbf5aec-c7b5-4c18-a20a-a416fc5f1d19",
   "metadata": {},
   "outputs": [
    {
     "data": {
      "text/plain": [
       "[1, 2, 3, 4, 'motyla noga']"
      ]
     },
     "execution_count": 58,
     "metadata": {},
     "output_type": "execute_result"
    }
   ],
   "source": [
    "x = [1, 2, 3, 4,  'motyla noga']\n",
    "x"
   ]
  },
  {
   "cell_type": "code",
   "execution_count": 60,
   "id": "07a4b340-b8a0-4e5b-96c5-2107a3245493",
   "metadata": {},
   "outputs": [
    {
     "data": {
      "text/plain": [
       "2"
      ]
     },
     "execution_count": 60,
     "metadata": {},
     "output_type": "execute_result"
    }
   ],
   "source": [
    "x[1]"
   ]
  },
  {
   "cell_type": "code",
   "execution_count": 61,
   "id": "c9dd156e-8ffd-4462-970e-c73810849b4a",
   "metadata": {},
   "outputs": [
    {
     "data": {
      "text/plain": [
       "'motyla noga'"
      ]
     },
     "execution_count": 61,
     "metadata": {},
     "output_type": "execute_result"
    }
   ],
   "source": [
    "x[-1]"
   ]
  },
  {
   "cell_type": "code",
   "execution_count": 62,
   "id": "22b5e8d9-ae3d-4d12-b42a-c4fe5002115f",
   "metadata": {},
   "outputs": [
    {
     "data": {
      "text/plain": [
       "4"
      ]
     },
     "execution_count": 62,
     "metadata": {},
     "output_type": "execute_result"
    }
   ],
   "source": [
    "x[-2]"
   ]
  },
  {
   "cell_type": "code",
   "execution_count": 63,
   "id": "4db8fc17-2264-43f8-aefa-2d1574676974",
   "metadata": {},
   "outputs": [
    {
     "data": {
      "text/plain": [
       "[1, 2, 3]"
      ]
     },
     "execution_count": 63,
     "metadata": {},
     "output_type": "execute_result"
    }
   ],
   "source": [
    "x[0:3]"
   ]
  },
  {
   "cell_type": "code",
   "execution_count": 65,
   "id": "253defc6-0736-4ab1-a148-0905c13f95ca",
   "metadata": {},
   "outputs": [
    {
     "ename": "TypeError",
     "evalue": "can only assign an iterable",
     "output_type": "error",
     "traceback": [
      "\u001b[1;31m---------------------------------------------------------------------------\u001b[0m",
      "\u001b[1;31mTypeError\u001b[0m                                 Traceback (most recent call last)",
      "Input \u001b[1;32mIn [65]\u001b[0m, in \u001b[0;36m<cell line: 1>\u001b[1;34m()\u001b[0m\n\u001b[1;32m----> 1\u001b[0m x[\u001b[38;5;241m0\u001b[39m:\u001b[38;5;241m3\u001b[39m] \u001b[38;5;241m=\u001b[39m \u001b[38;5;241m3\u001b[39m\n",
      "\u001b[1;31mTypeError\u001b[0m: can only assign an iterable"
     ]
    }
   ],
   "source": [
    "x[0:3] = 3"
   ]
  },
  {
   "cell_type": "code",
   "execution_count": 66,
   "id": "cd85d87b-bbd5-4d25-8abe-81a9c07e25fa",
   "metadata": {},
   "outputs": [],
   "source": [
    "x[0:3] = [5, 6, 7]"
   ]
  },
  {
   "cell_type": "code",
   "execution_count": 67,
   "id": "d33b2a61-3c14-4b8a-952e-10e1f48e5bc4",
   "metadata": {},
   "outputs": [
    {
     "data": {
      "text/plain": [
       "[5, 6, 7, 4, 'motyla noga']"
      ]
     },
     "execution_count": 67,
     "metadata": {},
     "output_type": "execute_result"
    }
   ],
   "source": [
    "x"
   ]
  },
  {
   "cell_type": "code",
   "execution_count": 68,
   "id": "ba451689-c809-4b8a-b8bc-bf03a2a00dfa",
   "metadata": {},
   "outputs": [
    {
     "data": {
      "text/plain": [
       "[5, 6, 7, 4, 'motyla noga', 'I love Python!']"
      ]
     },
     "execution_count": 68,
     "metadata": {},
     "output_type": "execute_result"
    }
   ],
   "source": [
    "x.append('I love Python!')\n",
    "x"
   ]
  },
  {
   "cell_type": "code",
   "execution_count": 69,
   "id": "3263c23a-dfc5-4659-9973-1527755242bf",
   "metadata": {},
   "outputs": [
    {
     "data": {
      "text/plain": [
       "6"
      ]
     },
     "execution_count": 69,
     "metadata": {},
     "output_type": "execute_result"
    }
   ],
   "source": [
    "len(x)"
   ]
  },
  {
   "cell_type": "code",
   "execution_count": 71,
   "id": "3be775aa-dc90-4025-9498-c23e85591c47",
   "metadata": {},
   "outputs": [
    {
     "name": "stdout",
     "output_type": "stream",
     "text": [
      "5\n",
      "6\n",
      "7\n",
      "4\n",
      "motyla noga\n",
      "I love Python!\n"
     ]
    }
   ],
   "source": [
    "for i in range(len(x)):\n",
    "    print(x[i])"
   ]
  },
  {
   "cell_type": "code",
   "execution_count": 72,
   "id": "84d314ac-ab46-4217-9c2f-76c4b728cbe4",
   "metadata": {},
   "outputs": [
    {
     "name": "stdout",
     "output_type": "stream",
     "text": [
      "5\n",
      "6\n",
      "7\n",
      "4\n",
      "motyla noga\n",
      "I love Python!\n"
     ]
    }
   ],
   "source": [
    "for e in x:\n",
    "    print(e)"
   ]
  },
  {
   "cell_type": "code",
   "execution_count": 73,
   "id": "dcc07176-0d3a-409d-87de-a32c886a8f70",
   "metadata": {},
   "outputs": [
    {
     "name": "stdout",
     "output_type": "stream",
     "text": [
      "0 5\n",
      "1 6\n",
      "2 7\n",
      "3 4\n",
      "4 motyla noga\n",
      "5 I love Python!\n"
     ]
    }
   ],
   "source": [
    "for i, e in enumerate(x):\n",
    "    print(i, e)"
   ]
  },
  {
   "cell_type": "code",
   "execution_count": 81,
   "id": "951feb9a-7853-445a-a7cd-d7d5bcc033aa",
   "metadata": {},
   "outputs": [
    {
     "name": "stdout",
     "output_type": "stream",
     "text": [
      "(0, 1)\n",
      "(1, 2)\n",
      "(2, 3)\n"
     ]
    }
   ],
   "source": [
    "for e in enumerate(x):\n",
    "    print(e)"
   ]
  },
  {
   "cell_type": "code",
   "execution_count": 74,
   "id": "95b268cb-b716-4810-9658-89b2d413ffbf",
   "metadata": {},
   "outputs": [
    {
     "data": {
      "text/plain": [
       "(1, 2, 3, 4, 'Hello')"
      ]
     },
     "execution_count": 74,
     "metadata": {},
     "output_type": "execute_result"
    }
   ],
   "source": [
    "x = (1, 2, 3, 4, 'Hello')\n",
    "x"
   ]
  },
  {
   "cell_type": "code",
   "execution_count": 75,
   "id": "52310ee2-778b-4b4c-b030-a5003271c72e",
   "metadata": {},
   "outputs": [
    {
     "data": {
      "text/plain": [
       "2"
      ]
     },
     "execution_count": 75,
     "metadata": {},
     "output_type": "execute_result"
    }
   ],
   "source": [
    "x[1]"
   ]
  },
  {
   "cell_type": "code",
   "execution_count": 76,
   "id": "dfd399fb-a31b-44d0-ba64-c0b5657c55f0",
   "metadata": {},
   "outputs": [
    {
     "ename": "TypeError",
     "evalue": "'tuple' object does not support item assignment",
     "output_type": "error",
     "traceback": [
      "\u001b[1;31m---------------------------------------------------------------------------\u001b[0m",
      "\u001b[1;31mTypeError\u001b[0m                                 Traceback (most recent call last)",
      "Input \u001b[1;32mIn [76]\u001b[0m, in \u001b[0;36m<cell line: 1>\u001b[1;34m()\u001b[0m\n\u001b[1;32m----> 1\u001b[0m x[\u001b[38;5;241m1\u001b[39m] \u001b[38;5;241m=\u001b[39m \u001b[38;5;241m3\u001b[39m\n",
      "\u001b[1;31mTypeError\u001b[0m: 'tuple' object does not support item assignment"
     ]
    }
   ],
   "source": [
    "x[1] = 3"
   ]
  },
  {
   "cell_type": "code",
   "execution_count": 77,
   "id": "9af536af-979f-4506-888a-086d1284f834",
   "metadata": {},
   "outputs": [],
   "source": [
    "x = (1, 2, 3)"
   ]
  },
  {
   "cell_type": "code",
   "execution_count": 78,
   "id": "ced45e57-7524-494b-bfd4-9e5dbd696500",
   "metadata": {},
   "outputs": [],
   "source": [
    "a = x[0]\n",
    "b = x[1]\n",
    "c = x[2]"
   ]
  },
  {
   "cell_type": "code",
   "execution_count": 80,
   "id": "490b5592-5e80-4f85-8794-720a1bc76de9",
   "metadata": {},
   "outputs": [
    {
     "data": {
      "text/plain": [
       "(1, 2, 3)"
      ]
     },
     "execution_count": 80,
     "metadata": {},
     "output_type": "execute_result"
    }
   ],
   "source": [
    "a, b, c = x\n",
    "a, b, c"
   ]
  },
  {
   "cell_type": "code",
   "execution_count": 82,
   "id": "5dd6ef7b-4cd5-45ab-8396-a2d9f9c1a60c",
   "metadata": {},
   "outputs": [
    {
     "ename": "ValueError",
     "evalue": "too many values to unpack (expected 2)",
     "output_type": "error",
     "traceback": [
      "\u001b[1;31m---------------------------------------------------------------------------\u001b[0m",
      "\u001b[1;31mValueError\u001b[0m                                Traceback (most recent call last)",
      "Input \u001b[1;32mIn [82]\u001b[0m, in \u001b[0;36m<cell line: 1>\u001b[1;34m()\u001b[0m\n\u001b[1;32m----> 1\u001b[0m a, b \u001b[38;5;241m=\u001b[39m x\n\u001b[0;32m      2\u001b[0m a, b, c\n",
      "\u001b[1;31mValueError\u001b[0m: too many values to unpack (expected 2)"
     ]
    }
   ],
   "source": [
    "a, b = x\n",
    "a, b, c"
   ]
  },
  {
   "cell_type": "code",
   "execution_count": 83,
   "id": "5325e105-280b-4871-9817-8bacab816617",
   "metadata": {},
   "outputs": [
    {
     "ename": "ValueError",
     "evalue": "not enough values to unpack (expected 4, got 3)",
     "output_type": "error",
     "traceback": [
      "\u001b[1;31m---------------------------------------------------------------------------\u001b[0m",
      "\u001b[1;31mValueError\u001b[0m                                Traceback (most recent call last)",
      "Input \u001b[1;32mIn [83]\u001b[0m, in \u001b[0;36m<cell line: 1>\u001b[1;34m()\u001b[0m\n\u001b[1;32m----> 1\u001b[0m a, b, c, d \u001b[38;5;241m=\u001b[39m x\n\u001b[0;32m      2\u001b[0m a, b, c\n",
      "\u001b[1;31mValueError\u001b[0m: not enough values to unpack (expected 4, got 3)"
     ]
    }
   ],
   "source": [
    "a, b, c, d = x\n",
    "a, b, c"
   ]
  },
  {
   "cell_type": "code",
   "execution_count": 85,
   "id": "eff4d8be-837d-4f42-91c6-4792026e61c3",
   "metadata": {},
   "outputs": [
    {
     "data": {
      "text/plain": [
       "{}"
      ]
     },
     "execution_count": 85,
     "metadata": {},
     "output_type": "execute_result"
    }
   ],
   "source": [
    "x = {}\n",
    "x"
   ]
  },
  {
   "cell_type": "code",
   "execution_count": 86,
   "id": "561a19ef-5aa0-4f8d-8218-ab61340b658d",
   "metadata": {},
   "outputs": [
    {
     "data": {
      "text/plain": [
       "dict"
      ]
     },
     "execution_count": 86,
     "metadata": {},
     "output_type": "execute_result"
    }
   ],
   "source": [
    "type(x)"
   ]
  },
  {
   "cell_type": "code",
   "execution_count": 87,
   "id": "80e45dcb-0d13-4aa6-bab4-495f28de8ee8",
   "metadata": {},
   "outputs": [
    {
     "data": {
      "text/plain": [
       "{'hello': 'world', 3: 'Hejka', 'blalb': 158}"
      ]
     },
     "execution_count": 87,
     "metadata": {},
     "output_type": "execute_result"
    }
   ],
   "source": [
    "x = {'hello': 'world', 3: 'Hejka', 'blalb': 158}\n",
    "x"
   ]
  },
  {
   "cell_type": "code",
   "execution_count": 88,
   "id": "4048fae3-48a0-4826-909a-469278e00ffc",
   "metadata": {},
   "outputs": [
    {
     "data": {
      "text/plain": [
       "'world'"
      ]
     },
     "execution_count": 88,
     "metadata": {},
     "output_type": "execute_result"
    }
   ],
   "source": [
    "x['hello']"
   ]
  },
  {
   "cell_type": "code",
   "execution_count": 89,
   "id": "0b26ff57-4028-4ea8-8902-7c5798542762",
   "metadata": {},
   "outputs": [
    {
     "data": {
      "text/plain": [
       "'Hejka'"
      ]
     },
     "execution_count": 89,
     "metadata": {},
     "output_type": "execute_result"
    }
   ],
   "source": [
    "x[3]"
   ]
  },
  {
   "cell_type": "code",
   "execution_count": 90,
   "id": "c4005f9d-f621-4ddd-8455-908ad1d7308a",
   "metadata": {},
   "outputs": [
    {
     "ename": "KeyError",
     "evalue": "'WOW'",
     "output_type": "error",
     "traceback": [
      "\u001b[1;31m---------------------------------------------------------------------------\u001b[0m",
      "\u001b[1;31mKeyError\u001b[0m                                  Traceback (most recent call last)",
      "Input \u001b[1;32mIn [90]\u001b[0m, in \u001b[0;36m<cell line: 1>\u001b[1;34m()\u001b[0m\n\u001b[1;32m----> 1\u001b[0m \u001b[43mx\u001b[49m\u001b[43m[\u001b[49m\u001b[38;5;124;43m'\u001b[39;49m\u001b[38;5;124;43mWOW\u001b[39;49m\u001b[38;5;124;43m'\u001b[39;49m\u001b[43m]\u001b[49m\n",
      "\u001b[1;31mKeyError\u001b[0m: 'WOW'"
     ]
    }
   ],
   "source": [
    "x['WOW']"
   ]
  },
  {
   "cell_type": "code",
   "execution_count": 91,
   "id": "87ef723d-3302-43c1-822e-d5d3d20b041d",
   "metadata": {},
   "outputs": [
    {
     "data": {
      "text/plain": [
       "False"
      ]
     },
     "execution_count": 91,
     "metadata": {},
     "output_type": "execute_result"
    }
   ],
   "source": [
    "'WOW' in x"
   ]
  },
  {
   "cell_type": "code",
   "execution_count": 92,
   "id": "2ecf7f26-2b3a-4acb-91b0-1811400b01f0",
   "metadata": {},
   "outputs": [
    {
     "name": "stdout",
     "output_type": "stream",
     "text": [
      "hello\n",
      "3\n",
      "blalb\n"
     ]
    }
   ],
   "source": [
    "for e in x:\n",
    "    print(e)"
   ]
  },
  {
   "cell_type": "code",
   "execution_count": 93,
   "id": "78cdedc3-51b0-467d-93f8-b3655c6a2719",
   "metadata": {},
   "outputs": [
    {
     "name": "stdout",
     "output_type": "stream",
     "text": [
      "hello\n",
      "3\n",
      "blalb\n"
     ]
    }
   ],
   "source": [
    "for e in x.keys():\n",
    "    print(e)"
   ]
  },
  {
   "cell_type": "code",
   "execution_count": 94,
   "id": "9f27e705-53e7-4ea3-b645-35ec3da9d93b",
   "metadata": {},
   "outputs": [
    {
     "name": "stdout",
     "output_type": "stream",
     "text": [
      "world\n",
      "Hejka\n",
      "158\n"
     ]
    }
   ],
   "source": [
    "for e in x.values():\n",
    "    print(e)"
   ]
  },
  {
   "cell_type": "code",
   "execution_count": 96,
   "id": "ea427b2b-827c-406a-9673-3880096d4988",
   "metadata": {},
   "outputs": [
    {
     "name": "stdout",
     "output_type": "stream",
     "text": [
      "('hello', 'world')\n",
      "(3, 'Hejka')\n",
      "('blalb', 158)\n"
     ]
    }
   ],
   "source": [
    "for e in x.items():\n",
    "    print(e)"
   ]
  },
  {
   "cell_type": "code",
   "execution_count": 97,
   "id": "7a34fc8c-371e-4cfc-87f2-f3d13912662f",
   "metadata": {},
   "outputs": [
    {
     "name": "stdout",
     "output_type": "stream",
     "text": [
      "hello world\n",
      "3 Hejka\n",
      "blalb 158\n"
     ]
    }
   ],
   "source": [
    "for k, v in x.items():\n",
    "    print(k, v)"
   ]
  }
 ],
 "metadata": {
  "kernelspec": {
   "display_name": "Python 3 (ipykernel)",
   "language": "python",
   "name": "python3"
  },
  "language_info": {
   "codemirror_mode": {
    "name": "ipython",
    "version": 3
   },
   "file_extension": ".py",
   "mimetype": "text/x-python",
   "name": "python",
   "nbconvert_exporter": "python",
   "pygments_lexer": "ipython3",
   "version": "3.9.7"
  }
 },
 "nbformat": 4,
 "nbformat_minor": 5
}
